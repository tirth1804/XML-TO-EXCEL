{
  "nbformat": 4,
  "nbformat_minor": 0,
  "metadata": {
    "colab": {
      "provenance": [],
      "mount_file_id": "1_-jNUx6-o0k8Mf9qTs4sS7_7bVt0maDC",
      "authorship_tag": "ABX9TyM7lPasessVJurlo4KgwzRe",
      "include_colab_link": true
    },
    "kernelspec": {
      "name": "python3",
      "display_name": "Python 3"
    },
    "language_info": {
      "name": "python"
    }
  },
  "cells": [
    {
      "cell_type": "markdown",
      "metadata": {
        "id": "view-in-github",
        "colab_type": "text"
      },
      "source": [
        "<a href=\"https://colab.research.google.com/github/tirth1804/XML-TO-EXCEL/blob/main/XML_TO_EXCEL.ipynb\" target=\"_parent\"><img src=\"https://colab.research.google.com/assets/colab-badge.svg\" alt=\"Open In Colab\"/></a>"
      ]
    },
    {
      "cell_type": "code",
      "source": [
        "import openpyxl\n",
        "import xml.etree.ElementTree as ET\n",
        "import pandas as pd\n",
        "\n",
        "# load and parse the file\n",
        "fname = input('Enter File Name: ')\n",
        "xmlTree = ET.parse('C:\\\\Stuff\\\\'+fname+'.xml')\n",
        "print('Import successful!')\n",
        "print('Parsing XML file...')\n",
        "print(\"XML file parsed successfully!\")\n",
        "\n",
        "x = []\n",
        "\n",
        "for ele in xmlTree.findall('./item'):\n",
        "  l = {}\n",
        "  for i in ele.getchildren():\n",
        "    l.update({i.tag:i.text})\n",
        "    #print(i.tag)\n",
        "  x.append(l)\n",
        "#print(x)\n",
        "print(\"Creating DataFrame...\")\n",
        "df = pd.DataFrame(x)\n",
        "print(\"DataFrame created successfully!\")\n",
        "if(df.to_excel(fname+'.xlsx', sheet_name='sheet1', index='False')):\n",
        "    print(\"File Created Successfully!\")\n"
      ],
      "metadata": {
        "colab": {
          "base_uri": "https://localhost:8080/"
        },
        "id": "oJb6DQM5IpCC",
        "outputId": "31c402eb-4535-47b2-f61f-d97b0a2dccc1"
      },
      "execution_count": 7,
      "outputs": [
        {
          "output_type": "stream",
          "name": "stdout",
          "text": [
            "Enter File Name: Simple-XML-file-for-student-details\n",
            "Import successful!\n",
            "Parsing XML file...\n",
            "XML file parsed successfully!\n",
            "Creating DataFrame...\n",
            "DataFrame created successfully!\n"
          ]
        }
      ]
    },
    {
      "cell_type": "code",
      "source": [
        "import os\n",
        "import pandas as pd\n",
        "import xml.etree.ElementTree as ET\n",
        "\n",
        "def convert_xml_to_excel(xml_file):\n",
        "    try:\n",
        "        # Load XML file\n",
        "        tree = ET.parse(xml_file)\n",
        "\n",
        "        # Extract data from XML and convert to DataFrame\n",
        "        data = []\n",
        "        for element in tree.iter():\n",
        "            row = {}\n",
        "            row['tag'] = element.tag\n",
        "            row['text'] = element.text\n",
        "            row['attributes'] = element.attrib\n",
        "            data.append(row)\n",
        "        df = pd.DataFrame(data)\n",
        "\n",
        "        # Save DataFrame to Excel\n",
        "        excel_file = os.path.splitext(xml_file)[0] + '.xlsx'\n",
        "        df.to_excel(excel_file, index=False)\n",
        "        print(\"Conversion completed. Excel file saved as\", excel_file)\n",
        "    except Exception as e:\n",
        "        print(\"An error occurred during conversion:\", str(e))\n",
        "\n",
        "# Provide the XML file name as an input\n",
        "xml_file_name = input(\"Enter the XML file name: \")\n",
        "\n",
        "# Check if the file exists\n",
        "if not os.path.isfile(xml_file_name):\n",
        "    print(\"The specified file does not exist.\")\n",
        "else:\n",
        "    # Convert XML to Excel\n",
        "    convert_xml_to_excel(xml_file_name)\n"
      ],
      "metadata": {
        "colab": {
          "base_uri": "https://localhost:8080/"
        },
        "id": "bKf-gpSIetIK",
        "outputId": "a8c41145-5109-4ca7-d006-c8848bb5a6e3"
      },
      "execution_count": 12,
      "outputs": [
        {
          "output_type": "stream",
          "name": "stdout",
          "text": [
            "Enter the XML file name: /content/Simple-XML-file-for-student-details.xml\n",
            "Conversion completed. Excel file saved as /content/Simple-XML-file-for-student-details.xlsx\n"
          ]
        }
      ]
    },
    {
      "cell_type": "code",
      "source": [],
      "metadata": {
        "id": "aAfNyidjetFi"
      },
      "execution_count": null,
      "outputs": []
    },
    {
      "cell_type": "code",
      "source": [],
      "metadata": {
        "id": "NlBTpADJetDb"
      },
      "execution_count": null,
      "outputs": []
    },
    {
      "cell_type": "code",
      "source": [],
      "metadata": {
        "id": "a8SkmLoretBD"
      },
      "execution_count": null,
      "outputs": []
    },
    {
      "cell_type": "code",
      "source": [],
      "metadata": {
        "id": "OatKmTTkes-p"
      },
      "execution_count": null,
      "outputs": []
    },
    {
      "cell_type": "code",
      "source": [],
      "metadata": {
        "id": "szQUZ80Nes8E"
      },
      "execution_count": null,
      "outputs": []
    }
  ]
}